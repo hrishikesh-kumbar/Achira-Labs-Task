{
 "cells": [
  {
   "cell_type": "markdown",
   "id": "77d6a7e4-88a6-46ac-b7cb-a6d2c75b28bd",
   "metadata": {},
   "source": [
    "## Using CNN"
   ]
  },
  {
   "cell_type": "markdown",
   "id": "ba70b383-f472-4167-9d43-2c3ad27707d3",
   "metadata": {},
   "source": [
    "# Creating Training Dataset"
   ]
  },
  {
   "cell_type": "code",
   "execution_count": null,
   "id": "5729e648-a46e-4045-be18-07937db2958c",
   "metadata": {},
   "outputs": [],
   "source": [
    "import os\n",
    "import random\n",
    "from PIL import Image\n",
    "\n",
    "# Defining the shapes and their corresponding base images\n",
    "shapes = {\n",
    "    'gear': 'images/gear.tif',\n",
    "    'hexagon': 'images/hexagon.tif',\n",
    "    'disc': 'images/disc.tif',\n",
    "    'square': 'images/square.tif'\n",
    "}\n",
    "\n",
    "# Create the images\n",
    "for shape, image_path in shapes.items():\n",
    "    # Loading the base image\n",
    "    base_image = Image.open(image_path).convert('I')  \n",
    "\n",
    "    for i in range(1, 899):  # Create 100 images for each shape\n",
    "        # Rotating and scaling the image\n",
    "        angle = random.randint(0, 360)\n",
    "        scale = random.uniform(0.75, 1)\n",
    "        img = base_image.rotate(angle).resize((int(base_image.width * scale), int(base_image.height * scale)))\n",
    "\n",
    "        # Saving the image\n",
    "        directory = f'training_set/{shape}'\n",
    "        if not os.path.exists(directory):\n",
    "            os.makedirs(directory)\n",
    "        img.save(f'{directory}/{shape}{i}.png')\n"
   ]
  },
  {
   "cell_type": "markdown",
   "id": "09b08988-7708-4b57-930c-4151932d501f",
   "metadata": {},
   "source": [
    "# Training the Model"
   ]
  },
  {
   "cell_type": "code",
   "execution_count": 1,
   "id": "05c4627f-8a0e-4792-9a06-cf4ce8a24c04",
   "metadata": {},
   "outputs": [
    {
     "name": "stderr",
     "output_type": "stream",
     "text": [
      "2024-03-03 20:49:12.691493: I tensorflow/tsl/cuda/cudart_stub.cc:28] Could not find cuda drivers on your machine, GPU will not be used.\n",
      "2024-03-03 20:49:12.739659: I tensorflow/tsl/cuda/cudart_stub.cc:28] Could not find cuda drivers on your machine, GPU will not be used.\n",
      "2024-03-03 20:49:12.740834: I tensorflow/core/platform/cpu_feature_guard.cc:182] This TensorFlow binary is optimized to use available CPU instructions in performance-critical operations.\n",
      "To enable the following instructions: AVX2 FMA, in other operations, rebuild TensorFlow with the appropriate compiler flags.\n",
      "2024-03-03 20:49:13.748578: W tensorflow/compiler/tf2tensorrt/utils/py_utils.cc:38] TF-TRT Warning: Could not find TensorRT\n"
     ]
    },
    {
     "name": "stdout",
     "output_type": "stream",
     "text": [
      "Found 403 images belonging to 4 classes.\n",
      "Epoch 1/25\n",
      "  13/8000 [..............................] - ETA: 9:54 - loss: 2.3363 - accuracy: 0.3573 WARNING:tensorflow:Your input ran out of data; interrupting training. Make sure that your dataset or generator can generate at least `steps_per_epoch * epochs` batches (in this case, 200000 batches). You may need to use the repeat() function when building your dataset.\n",
      "8000/8000 [==============================] - 2s 141us/step - loss: 2.3363 - accuracy: 0.3573\n"
     ]
    },
    {
     "data": {
      "text/plain": [
       "<keras.src.callbacks.History at 0x7fdaec228a00>"
      ]
     },
     "execution_count": 1,
     "metadata": {},
     "output_type": "execute_result"
    }
   ],
   "source": [
    "from keras.models import Sequential\n",
    "from keras.layers import Conv2D, MaxPooling2D, Flatten, Dense\n",
    "from keras.preprocessing.image import ImageDataGenerator\n",
    "\n",
    "# Define the model\n",
    "model = Sequential()\n",
    "model.add(Conv2D(32, (3, 3), input_shape=(64, 64, 3), activation='relu'))\n",
    "model.add(MaxPooling2D(pool_size=(2, 2)))\n",
    "model.add(Flatten())\n",
    "model.add(Dense(units=128, activation='relu'))\n",
    "model.add(Dense(units=4, activation='softmax'))  # 4 units for 4 classes\n",
    "\n",
    "# Compile the model\n",
    "model.compile(optimizer='adam', loss='categorical_crossentropy', metrics=['accuracy'])\n",
    "\n",
    "# Using ImageDataGenerator to preprocess the images\n",
    "train_datagen = ImageDataGenerator(rescale=1./255, shear_range=0.2, zoom_range=0.2, horizontal_flip=True)\n",
    "test_datagen = ImageDataGenerator(rescale=1./255)\n",
    "\n",
    "# Directory 'training_set' with subdirectories 'gear', 'hexagon', 'disc', 'square' each containing relevant images\n",
    "training_set = train_datagen.flow_from_directory('training_set', target_size=(64, 64), batch_size=32, class_mode='categorical')\n",
    "\n",
    "# Fit the model\n",
    "model.fit(training_set, steps_per_epoch=8000, epochs=25)\n",
    "\n",
    "\n"
   ]
  },
  {
   "cell_type": "markdown",
   "id": "305a1f07-f096-4d70-baa0-8daaa81e64fd",
   "metadata": {},
   "source": [
    "# Prediction"
   ]
  },
  {
   "cell_type": "code",
   "execution_count": 12,
   "id": "aee7be32-abd4-492c-b9bf-0fb26dcb548c",
   "metadata": {},
   "outputs": [
    {
     "name": "stdout",
     "output_type": "stream",
     "text": [
      "1/1 [==============================] - 0s 21ms/step\n",
      "1\n"
     ]
    }
   ],
   "source": [
    "from keras.preprocessing import image\n",
    "import numpy as np\n",
    "\n",
    "# Load the image\n",
    "img_path = 'gear1.png'  # Replace with your image path\n",
    "img = image.load_img(img_path, target_size=(64, 64))\n",
    "\n",
    "# Preprocess the image\n",
    "img_tensor = image.img_to_array(img)\n",
    "img_tensor = np.expand_dims(img_tensor, axis=0)\n",
    "img_tensor /= 255.  # Remember that the model was trained on inputs that were rescaled by 1./255\n",
    "\n",
    "#Predict the class of the image\n",
    "prediction = model.predict(img_tensor)\n",
    "\n",
    "# The prediction will be a 4-element vector representing the probability of each class.\n",
    "# To get the class with the highest probability, you can use np.argmax\n",
    "predicted_class = np.argmax(prediction)\n",
    "\n",
    "print(predicted_class)\n",
    "# predicted_class will be 0, 1, 2, or 3 representing 'gear', 'hexagon', 'disc', 'square' respectively.\n"
   ]
  },
  {
   "cell_type": "code",
   "execution_count": null,
   "id": "13e4fc7c-1a0c-46a5-bad9-b79b5c613776",
   "metadata": {},
   "outputs": [],
   "source": []
  }
 ],
 "metadata": {
  "kernelspec": {
   "display_name": "Python 3 (ipykernel)",
   "language": "python",
   "name": "python3"
  },
  "language_info": {
   "codemirror_mode": {
    "name": "ipython",
    "version": 3
   },
   "file_extension": ".py",
   "mimetype": "text/x-python",
   "name": "python",
   "nbconvert_exporter": "python",
   "pygments_lexer": "ipython3",
   "version": "3.11.7"
  }
 },
 "nbformat": 4,
 "nbformat_minor": 5
}
